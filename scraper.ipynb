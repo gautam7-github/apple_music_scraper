{
 "cells": [
  {
   "cell_type": "code",
   "execution_count": null,
   "metadata": {},
   "outputs": [],
   "source": [
    "from selenium import webdriver"
   ]
  },
  {
   "cell_type": "code",
   "execution_count": null,
   "metadata": {},
   "outputs": [],
   "source": [
    "driver = webdriver.Chrome()"
   ]
  },
  {
   "cell_type": "code",
   "execution_count": null,
   "metadata": {},
   "outputs": [],
   "source": [
    "driver.maximize_window()"
   ]
  },
  {
   "cell_type": "code",
   "execution_count": null,
   "metadata": {},
   "outputs": [],
   "source": [
    "URL = \"https://music.apple.com/kw/playlist/top-100-india/pl.c0e98d2423e54c39b3df955c24df3cc5\""
   ]
  },
  {
   "cell_type": "code",
   "execution_count": null,
   "metadata": {},
   "outputs": [],
   "source": [
    "driver.get(URL)"
   ]
  },
  {
   "cell_type": "code",
   "execution_count": null,
   "metadata": {},
   "outputs": [],
   "source": [
    "allSongs = driver.find_elements_by_class_name(\"songs-list-row\")"
   ]
  },
  {
   "cell_type": "code",
   "execution_count": null,
   "metadata": {},
   "outputs": [],
   "source": [
    "len(allSongs)"
   ]
  },
  {
   "cell_type": "code",
   "execution_count": null,
   "metadata": {},
   "outputs": [],
   "source": [
    "import collections"
   ]
  },
  {
   "cell_type": "code",
   "execution_count": null,
   "metadata": {},
   "outputs": [],
   "source": [
    "coll = collections.defaultdict(dict)\n",
    "for index, song in enumerate(allSongs):\n",
    "    songRank = song.find_element_by_class_name(\"songs-list-row__rank\")\n",
    "    coll[index]['Rank'] = songRank.text\n",
    "    songName = song.find_element_by_class_name(\"songs-list-row__song-name\")\n",
    "    coll[index]['Song'] = songName.text\n",
    "    \n",
    "    songArtists = []\n",
    "    \n",
    "    allArtists = song.find_element_by_class_name(\"songs-list__col--secondary\")\n",
    "    allArtists = allArtists.find_elements_by_tag_name(\"a\")\n",
    "    for artist in allArtists:\n",
    "        songArtists.append(artist.text)\n",
    "    \n",
    "    coll[index]['Artist(s)'] = ','.join(songArtists)\n",
    "\n",
    "    songAlbum = song.find_element_by_class_name(\"songs-list__col--tertiary\")\n",
    "    coll[index]['Album'] = songAlbum.text"
   ]
  },
  {
   "cell_type": "code",
   "execution_count": null,
   "metadata": {},
   "outputs": [],
   "source": [
    "coll"
   ]
  },
  {
   "cell_type": "code",
   "execution_count": null,
   "metadata": {},
   "outputs": [],
   "source": [
    "import pandas as pd\n",
    "import json"
   ]
  },
  {
   "cell_type": "code",
   "execution_count": null,
   "metadata": {},
   "outputs": [],
   "source": [
    "jsonData = json.dumps(coll)"
   ]
  },
  {
   "cell_type": "code",
   "execution_count": null,
   "metadata": {},
   "outputs": [],
   "source": [
    "df = pd.read_json(jsonData)"
   ]
  },
  {
   "cell_type": "code",
   "execution_count": null,
   "metadata": {},
   "outputs": [],
   "source": [
    "df = df.T"
   ]
  },
  {
   "cell_type": "code",
   "execution_count": null,
   "metadata": {},
   "outputs": [],
   "source": [
    "from sqlalchemy import create_engine"
   ]
  },
  {
   "cell_type": "code",
   "execution_count": null,
   "metadata": {},
   "outputs": [],
   "source": [
    "engine = create_engine(\"sqlite:///song.db\",echo=False)"
   ]
  },
  {
   "cell_type": "code",
   "execution_count": null,
   "metadata": {},
   "outputs": [],
   "source": [
    "df.to_sql('songs',con=engine,index=False,index_label='Rank',if_exists='replace')"
   ]
  },
  {
   "cell_type": "code",
   "execution_count": null,
   "metadata": {},
   "outputs": [],
   "source": [
    "engine.url"
   ]
  },
  {
   "cell_type": "code",
   "execution_count": null,
   "metadata": {},
   "outputs": [],
   "source": [
    "engine.execute('select * from songs').fetchall()"
   ]
  },
  {
   "cell_type": "code",
   "execution_count": 1,
   "metadata": {},
   "outputs": [],
   "source": [
    "import pandas as pd"
   ]
  },
  {
   "cell_type": "code",
   "execution_count": 17,
   "metadata": {},
   "outputs": [],
   "source": [
    "df = pd.read_csv(\"./database/songs.csv\")"
   ]
  },
  {
   "cell_type": "code",
   "execution_count": 18,
   "metadata": {},
   "outputs": [
    {
     "data": {
      "text/html": [
       "<div>\n",
       "<style scoped>\n",
       "    .dataframe tbody tr th:only-of-type {\n",
       "        vertical-align: middle;\n",
       "    }\n",
       "\n",
       "    .dataframe tbody tr th {\n",
       "        vertical-align: top;\n",
       "    }\n",
       "\n",
       "    .dataframe thead th {\n",
       "        text-align: right;\n",
       "    }\n",
       "</style>\n",
       "<table border=\"1\" class=\"dataframe\">\n",
       "  <thead>\n",
       "    <tr style=\"text-align: right;\">\n",
       "      <th></th>\n",
       "      <th>Rank</th>\n",
       "      <th>Song</th>\n",
       "      <th>Artist(s)</th>\n",
       "      <th>Album</th>\n",
       "      <th>GYD_TIMESTAMP</th>\n",
       "    </tr>\n",
       "  </thead>\n",
       "  <tbody>\n",
       "    <tr>\n",
       "      <th>0</th>\n",
       "      <td>1</td>\n",
       "      <td>Apna Bana Le (From \"Bhediya\")</td>\n",
       "      <td>Arijit Singh,Sachin-Jigar,Amitabh Bhattacharya</td>\n",
       "      <td>Apna Bana Le (From \"Bhediya\") - Single</td>\n",
       "      <td>2023-02-12 11:37:34.927516</td>\n",
       "    </tr>\n",
       "    <tr>\n",
       "      <th>1</th>\n",
       "      <td>2</td>\n",
       "      <td>52 Bars</td>\n",
       "      <td>Karan Aujla,Ikky</td>\n",
       "      <td>Four You - EP</td>\n",
       "      <td>2023-02-12 11:37:34.927516</td>\n",
       "    </tr>\n",
       "    <tr>\n",
       "      <th>2</th>\n",
       "      <td>3</td>\n",
       "      <td>Besharam Rang (From \"Pathaan\")</td>\n",
       "      <td>Vishal &amp; Shekhar,Shilpa Rao,Caralisa Monteiro,...</td>\n",
       "      <td>Besharam Rang (From \"Pathaan\") - Single</td>\n",
       "      <td>2023-02-12 11:37:34.927516</td>\n",
       "    </tr>\n",
       "    <tr>\n",
       "      <th>3</th>\n",
       "      <td>4</td>\n",
       "      <td>Maan Meri Jaan</td>\n",
       "      <td>King</td>\n",
       "      <td>Champagne Talk</td>\n",
       "      <td>2023-02-12 11:37:34.927516</td>\n",
       "    </tr>\n",
       "    <tr>\n",
       "      <th>4</th>\n",
       "      <td>5</td>\n",
       "      <td>Jhoome Jo Pathaan</td>\n",
       "      <td>Vishal &amp; Shekhar,Arijit Singh,Sukriti Kakar,Vi...</td>\n",
       "      <td>Pathaan (Original Motion Picture Soundtrack)</td>\n",
       "      <td>2023-02-12 11:37:34.927516</td>\n",
       "    </tr>\n",
       "  </tbody>\n",
       "</table>\n",
       "</div>"
      ],
      "text/plain": [
       "   Rank                            Song  \\\n",
       "0     1   Apna Bana Le (From \"Bhediya\")   \n",
       "1     2                         52 Bars   \n",
       "2     3  Besharam Rang (From \"Pathaan\")   \n",
       "3     4                  Maan Meri Jaan   \n",
       "4     5               Jhoome Jo Pathaan   \n",
       "\n",
       "                                           Artist(s)  \\\n",
       "0     Arijit Singh,Sachin-Jigar,Amitabh Bhattacharya   \n",
       "1                                   Karan Aujla,Ikky   \n",
       "2  Vishal & Shekhar,Shilpa Rao,Caralisa Monteiro,...   \n",
       "3                                               King   \n",
       "4  Vishal & Shekhar,Arijit Singh,Sukriti Kakar,Vi...   \n",
       "\n",
       "                                          Album               GYD_TIMESTAMP  \n",
       "0        Apna Bana Le (From \"Bhediya\") - Single  2023-02-12 11:37:34.927516  \n",
       "1                                 Four You - EP  2023-02-12 11:37:34.927516  \n",
       "2       Besharam Rang (From \"Pathaan\") - Single  2023-02-12 11:37:34.927516  \n",
       "3                                Champagne Talk  2023-02-12 11:37:34.927516  \n",
       "4  Pathaan (Original Motion Picture Soundtrack)  2023-02-12 11:37:34.927516  "
      ]
     },
     "execution_count": 18,
     "metadata": {},
     "output_type": "execute_result"
    }
   ],
   "source": [
    "df.head()"
   ]
  },
  {
   "cell_type": "code",
   "execution_count": 19,
   "metadata": {},
   "outputs": [],
   "source": [
    "df = df.assign(artists=df['Artist(s)'].str.split(',')).explode('artists')\n",
    "df['Artist(s)'] = df['artists']\n",
    "df = df.drop(\"artists\",axis=1)"
   ]
  },
  {
   "cell_type": "code",
   "execution_count": 21,
   "metadata": {},
   "outputs": [],
   "source": [
    "df['Artist(s)'] = df['artists']"
   ]
  },
  {
   "cell_type": "code",
   "execution_count": 24,
   "metadata": {},
   "outputs": [
    {
     "data": {
      "text/html": [
       "<div>\n",
       "<style scoped>\n",
       "    .dataframe tbody tr th:only-of-type {\n",
       "        vertical-align: middle;\n",
       "    }\n",
       "\n",
       "    .dataframe tbody tr th {\n",
       "        vertical-align: top;\n",
       "    }\n",
       "\n",
       "    .dataframe thead th {\n",
       "        text-align: right;\n",
       "    }\n",
       "</style>\n",
       "<table border=\"1\" class=\"dataframe\">\n",
       "  <thead>\n",
       "    <tr style=\"text-align: right;\">\n",
       "      <th></th>\n",
       "      <th>Rank</th>\n",
       "      <th>Song</th>\n",
       "      <th>Artist(s)</th>\n",
       "      <th>Album</th>\n",
       "      <th>GYD_TIMESTAMP</th>\n",
       "    </tr>\n",
       "  </thead>\n",
       "  <tbody>\n",
       "    <tr>\n",
       "      <th>0</th>\n",
       "      <td>1</td>\n",
       "      <td>Apna Bana Le (From \"Bhediya\")</td>\n",
       "      <td>Arijit Singh</td>\n",
       "      <td>Apna Bana Le (From \"Bhediya\") - Single</td>\n",
       "      <td>2023-02-12 11:37:34.927516</td>\n",
       "    </tr>\n",
       "    <tr>\n",
       "      <th>0</th>\n",
       "      <td>1</td>\n",
       "      <td>Apna Bana Le (From \"Bhediya\")</td>\n",
       "      <td>Sachin-Jigar</td>\n",
       "      <td>Apna Bana Le (From \"Bhediya\") - Single</td>\n",
       "      <td>2023-02-12 11:37:34.927516</td>\n",
       "    </tr>\n",
       "    <tr>\n",
       "      <th>0</th>\n",
       "      <td>1</td>\n",
       "      <td>Apna Bana Le (From \"Bhediya\")</td>\n",
       "      <td>Amitabh Bhattacharya</td>\n",
       "      <td>Apna Bana Le (From \"Bhediya\") - Single</td>\n",
       "      <td>2023-02-12 11:37:34.927516</td>\n",
       "    </tr>\n",
       "    <tr>\n",
       "      <th>1</th>\n",
       "      <td>2</td>\n",
       "      <td>52 Bars</td>\n",
       "      <td>Karan Aujla</td>\n",
       "      <td>Four You - EP</td>\n",
       "      <td>2023-02-12 11:37:34.927516</td>\n",
       "    </tr>\n",
       "    <tr>\n",
       "      <th>1</th>\n",
       "      <td>2</td>\n",
       "      <td>52 Bars</td>\n",
       "      <td>Ikky</td>\n",
       "      <td>Four You - EP</td>\n",
       "      <td>2023-02-12 11:37:34.927516</td>\n",
       "    </tr>\n",
       "    <tr>\n",
       "      <th>...</th>\n",
       "      <td>...</td>\n",
       "      <td>...</td>\n",
       "      <td>...</td>\n",
       "      <td>...</td>\n",
       "      <td>...</td>\n",
       "    </tr>\n",
       "    <tr>\n",
       "      <th>97</th>\n",
       "      <td>98</td>\n",
       "      <td>Tera Ban Jaunga</td>\n",
       "      <td>Tulsi Kumar</td>\n",
       "      <td>Kabir Singh (Original Motion Picture Soundtrack)</td>\n",
       "      <td>2023-02-12 11:37:34.927516</td>\n",
       "    </tr>\n",
       "    <tr>\n",
       "      <th>98</th>\n",
       "      <td>99</td>\n",
       "      <td>Desires</td>\n",
       "      <td>AP Dhillon</td>\n",
       "      <td>Hidden Gems - EP</td>\n",
       "      <td>2023-02-12 11:37:34.927516</td>\n",
       "    </tr>\n",
       "    <tr>\n",
       "      <th>98</th>\n",
       "      <td>99</td>\n",
       "      <td>Desires</td>\n",
       "      <td>Gurinder Gill</td>\n",
       "      <td>Hidden Gems - EP</td>\n",
       "      <td>2023-02-12 11:37:34.927516</td>\n",
       "    </tr>\n",
       "    <tr>\n",
       "      <th>99</th>\n",
       "      <td>100</td>\n",
       "      <td>Dil Diyan Gallan</td>\n",
       "      <td>Vishal &amp; Shekhar</td>\n",
       "      <td>Tiger Zinda Hai (Original Motion Picture Sound...</td>\n",
       "      <td>2023-02-12 11:37:34.927516</td>\n",
       "    </tr>\n",
       "    <tr>\n",
       "      <th>99</th>\n",
       "      <td>100</td>\n",
       "      <td>Dil Diyan Gallan</td>\n",
       "      <td>Atif Aslam</td>\n",
       "      <td>Tiger Zinda Hai (Original Motion Picture Sound...</td>\n",
       "      <td>2023-02-12 11:37:34.927516</td>\n",
       "    </tr>\n",
       "  </tbody>\n",
       "</table>\n",
       "<p>209 rows × 5 columns</p>\n",
       "</div>"
      ],
      "text/plain": [
       "    Rank                           Song             Artist(s)  \\\n",
       "0      1  Apna Bana Le (From \"Bhediya\")          Arijit Singh   \n",
       "0      1  Apna Bana Le (From \"Bhediya\")          Sachin-Jigar   \n",
       "0      1  Apna Bana Le (From \"Bhediya\")  Amitabh Bhattacharya   \n",
       "1      2                        52 Bars           Karan Aujla   \n",
       "1      2                        52 Bars                  Ikky   \n",
       "..   ...                            ...                   ...   \n",
       "97    98                Tera Ban Jaunga           Tulsi Kumar   \n",
       "98    99                        Desires            AP Dhillon   \n",
       "98    99                        Desires         Gurinder Gill   \n",
       "99   100               Dil Diyan Gallan      Vishal & Shekhar   \n",
       "99   100               Dil Diyan Gallan            Atif Aslam   \n",
       "\n",
       "                                                Album  \\\n",
       "0              Apna Bana Le (From \"Bhediya\") - Single   \n",
       "0              Apna Bana Le (From \"Bhediya\") - Single   \n",
       "0              Apna Bana Le (From \"Bhediya\") - Single   \n",
       "1                                       Four You - EP   \n",
       "1                                       Four You - EP   \n",
       "..                                                ...   \n",
       "97   Kabir Singh (Original Motion Picture Soundtrack)   \n",
       "98                                   Hidden Gems - EP   \n",
       "98                                   Hidden Gems - EP   \n",
       "99  Tiger Zinda Hai (Original Motion Picture Sound...   \n",
       "99  Tiger Zinda Hai (Original Motion Picture Sound...   \n",
       "\n",
       "                 GYD_TIMESTAMP  \n",
       "0   2023-02-12 11:37:34.927516  \n",
       "0   2023-02-12 11:37:34.927516  \n",
       "0   2023-02-12 11:37:34.927516  \n",
       "1   2023-02-12 11:37:34.927516  \n",
       "1   2023-02-12 11:37:34.927516  \n",
       "..                         ...  \n",
       "97  2023-02-12 11:37:34.927516  \n",
       "98  2023-02-12 11:37:34.927516  \n",
       "98  2023-02-12 11:37:34.927516  \n",
       "99  2023-02-12 11:37:34.927516  \n",
       "99  2023-02-12 11:37:34.927516  \n",
       "\n",
       "[209 rows x 5 columns]"
      ]
     },
     "execution_count": 24,
     "metadata": {},
     "output_type": "execute_result"
    }
   ],
   "source": [
    "df = df.drop(\"artists\",axis=1)"
   ]
  },
  {
   "cell_type": "code",
   "execution_count": null,
   "metadata": {},
   "outputs": [],
   "source": [
    "# split the \"artists\" column into a list of values\n",
    "df['artists'] = df['Artist(s)'].str.split(', ')\n",
    "\n",
    "# use the melt method to create a new row for each value in the \"artists\" column\n",
    "df_expanded = pd.melt(df, id_vars='song', value_vars='artists')\n",
    "\n",
    "# drop the original \"artists\" column and keep only the values from the \"value\" column\n",
    "df_expanded = df_expanded.drop('variable', axis=1)\n",
    "df_expanded = df_expanded.rename(columns={'value': 'artists'})"
   ]
  }
 ],
 "metadata": {
  "kernelspec": {
   "display_name": "Python 3",
   "language": "python",
   "name": "python3"
  },
  "language_info": {
   "codemirror_mode": {
    "name": "ipython",
    "version": 3
   },
   "file_extension": ".py",
   "mimetype": "text/x-python",
   "name": "python",
   "nbconvert_exporter": "python",
   "pygments_lexer": "ipython3",
   "version": "3.8.1"
  },
  "orig_nbformat": 4,
  "vscode": {
   "interpreter": {
    "hash": "03bb991457d37ae7114e465a4e1fddf1bc1040c6df8c60b0a6698575164d41d7"
   }
  }
 },
 "nbformat": 4,
 "nbformat_minor": 2
}
